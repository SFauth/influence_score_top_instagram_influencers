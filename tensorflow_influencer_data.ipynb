{
  "nbformat": 4,
  "nbformat_minor": 0,
  "metadata": {
    "colab": {
      "provenance": [],
      "collapsed_sections": [],
      "authorship_tag": "ABX9TyM3IgT7c6qVGUoy3seJFFrO",
      "include_colab_link": true
    },
    "kernelspec": {
      "name": "python3",
      "display_name": "Python 3"
    },
    "language_info": {
      "name": "python"
    }
  },
  "cells": [
    {
      "cell_type": "markdown",
      "metadata": {
        "id": "view-in-github",
        "colab_type": "text"
      },
      "source": [
        "<a href=\"https://colab.research.google.com/github/SFauth/learning_scikit_learn/blob/main/tensorflow_influencer_data.ipynb\" target=\"_parent\"><img src=\"https://colab.research.google.com/assets/colab-badge.svg\" alt=\"Open In Colab\"/></a>"
      ]
    },
    {
      "cell_type": "markdown",
      "source": [
        "# Lerne TensorFlow (Deep Learning in Python)"
      ],
      "metadata": {
        "id": "TMvPOi1pKAq2"
      }
    },
    {
      "cell_type": "markdown",
      "source": [
        "Installieren der Pakete"
      ],
      "metadata": {
        "id": "ZIJdcIguEUJn"
      }
    },
    {
      "cell_type": "code",
      "execution_count": null,
      "metadata": {
        "id": "PhSWpDLZJx1E"
      },
      "outputs": [],
      "source": [
        "!pip install scikit-learn\n",
        "!pip install tensorflow\n",
        "!pip install plotly"
      ]
    },
    {
      "cell_type": "markdown",
      "source": [
        "Laden der Pakete"
      ],
      "metadata": {
        "id": "SyiyB1JVEW11"
      }
    },
    {
      "cell_type": "code",
      "source": [
        "import numpy as np\n",
        "import pandas as pd\n",
        "import plotly.express as px\n",
        "import tensorflow as tf\n",
        "import matplotlib.pyplot as plt\n",
        "from tensorflow import keras\n",
        "from tensorflow.keras import layers\n",
        "from google.colab import drive \n",
        "from sklearn.pipeline import Pipeline   \n",
        "from sklearn.preprocessing import OneHotEncoder, MinMaxScaler\n",
        "from sklearn.compose import ColumnTransformer\n",
        "from sklearn.model_selection import train_test_split\n",
        "from sklearn.linear_model import PoissonRegressor"
      ],
      "metadata": {
        "id": "0lnplZ7EDb5A"
      },
      "execution_count": null,
      "outputs": []
    },
    {
      "cell_type": "markdown",
      "source": [
        "Festlegen des Arbeitsverzeichnisses"
      ],
      "metadata": {
        "id": "JksjhNWfEbLd"
      }
    },
    {
      "cell_type": "code",
      "source": [
        "drive.mount(\"/content/gdrive\", force_remount=True)\n",
        "%cd /content/gdrive/MyDrive/Learning_ML_and_AI/"
      ],
      "metadata": {
        "colab": {
          "base_uri": "https://localhost:8080/"
        },
        "id": "pn87qGmCBmc3",
        "outputId": "4ccf7774-bea3-43cf-8ddd-39ad971e5f49"
      },
      "execution_count": null,
      "outputs": [
        {
          "output_type": "stream",
          "name": "stdout",
          "text": [
            "Mounted at /content/gdrive\n",
            "/content/gdrive/MyDrive/Learning_ML_and_AI\n"
          ]
        }
      ]
    },
    {
      "cell_type": "markdown",
      "source": [
        "## Data Wrangling mit Pandas und Numpy"
      ],
      "metadata": {
        "id": "VxDdetOzVjTc"
      }
    },
    {
      "cell_type": "markdown",
      "source": [
        "Einlesen der Daten mit Pandas"
      ],
      "metadata": {
        "id": "ZI9f2vmeEmrV"
      }
    },
    {
      "cell_type": "code",
      "source": [
        "df = pd.read_csv(\"influencer_data/top_insta_influencers_data.csv\")\n",
        "df.head(5)"
      ],
      "metadata": {
        "colab": {
          "base_uri": "https://localhost:8080/",
          "height": 206
        },
        "id": "Sds0CSSnDUc7",
        "outputId": "b1348f8a-2820-46d1-ac5b-4e74f5160137"
      },
      "execution_count": null,
      "outputs": [
        {
          "output_type": "execute_result",
          "data": {
            "text/plain": [
              "   rank channel_info  influence_score  posts followers avg_likes  \\\n",
              "0     1    cristiano               92   3.3k    475.8m      8.7m   \n",
              "1     2  kyliejenner               91   6.9k    366.2m      8.3m   \n",
              "2     3     leomessi               90  0.89k    357.3m      6.8m   \n",
              "3     4  selenagomez               93   1.8k    342.7m      6.2m   \n",
              "4     5      therock               91   6.8k    334.1m      1.9m   \n",
              "\n",
              "  60_day_eng_rate new_post_avg_like total_likes        country  \n",
              "0           1.39%              6.5m       29.0b          Spain  \n",
              "1           1.62%              5.9m       57.4b  United States  \n",
              "2           1.24%              4.4m        6.0b            NaN  \n",
              "3           0.97%              3.3m       11.5b  United States  \n",
              "4           0.20%            665.3k       12.5b  United States  "
            ],
            "text/html": [
              "\n",
              "  <div id=\"df-eb2573bf-f7f9-4da3-9de8-86c4227530f8\">\n",
              "    <div class=\"colab-df-container\">\n",
              "      <div>\n",
              "<style scoped>\n",
              "    .dataframe tbody tr th:only-of-type {\n",
              "        vertical-align: middle;\n",
              "    }\n",
              "\n",
              "    .dataframe tbody tr th {\n",
              "        vertical-align: top;\n",
              "    }\n",
              "\n",
              "    .dataframe thead th {\n",
              "        text-align: right;\n",
              "    }\n",
              "</style>\n",
              "<table border=\"1\" class=\"dataframe\">\n",
              "  <thead>\n",
              "    <tr style=\"text-align: right;\">\n",
              "      <th></th>\n",
              "      <th>rank</th>\n",
              "      <th>channel_info</th>\n",
              "      <th>influence_score</th>\n",
              "      <th>posts</th>\n",
              "      <th>followers</th>\n",
              "      <th>avg_likes</th>\n",
              "      <th>60_day_eng_rate</th>\n",
              "      <th>new_post_avg_like</th>\n",
              "      <th>total_likes</th>\n",
              "      <th>country</th>\n",
              "    </tr>\n",
              "  </thead>\n",
              "  <tbody>\n",
              "    <tr>\n",
              "      <th>0</th>\n",
              "      <td>1</td>\n",
              "      <td>cristiano</td>\n",
              "      <td>92</td>\n",
              "      <td>3.3k</td>\n",
              "      <td>475.8m</td>\n",
              "      <td>8.7m</td>\n",
              "      <td>1.39%</td>\n",
              "      <td>6.5m</td>\n",
              "      <td>29.0b</td>\n",
              "      <td>Spain</td>\n",
              "    </tr>\n",
              "    <tr>\n",
              "      <th>1</th>\n",
              "      <td>2</td>\n",
              "      <td>kyliejenner</td>\n",
              "      <td>91</td>\n",
              "      <td>6.9k</td>\n",
              "      <td>366.2m</td>\n",
              "      <td>8.3m</td>\n",
              "      <td>1.62%</td>\n",
              "      <td>5.9m</td>\n",
              "      <td>57.4b</td>\n",
              "      <td>United States</td>\n",
              "    </tr>\n",
              "    <tr>\n",
              "      <th>2</th>\n",
              "      <td>3</td>\n",
              "      <td>leomessi</td>\n",
              "      <td>90</td>\n",
              "      <td>0.89k</td>\n",
              "      <td>357.3m</td>\n",
              "      <td>6.8m</td>\n",
              "      <td>1.24%</td>\n",
              "      <td>4.4m</td>\n",
              "      <td>6.0b</td>\n",
              "      <td>NaN</td>\n",
              "    </tr>\n",
              "    <tr>\n",
              "      <th>3</th>\n",
              "      <td>4</td>\n",
              "      <td>selenagomez</td>\n",
              "      <td>93</td>\n",
              "      <td>1.8k</td>\n",
              "      <td>342.7m</td>\n",
              "      <td>6.2m</td>\n",
              "      <td>0.97%</td>\n",
              "      <td>3.3m</td>\n",
              "      <td>11.5b</td>\n",
              "      <td>United States</td>\n",
              "    </tr>\n",
              "    <tr>\n",
              "      <th>4</th>\n",
              "      <td>5</td>\n",
              "      <td>therock</td>\n",
              "      <td>91</td>\n",
              "      <td>6.8k</td>\n",
              "      <td>334.1m</td>\n",
              "      <td>1.9m</td>\n",
              "      <td>0.20%</td>\n",
              "      <td>665.3k</td>\n",
              "      <td>12.5b</td>\n",
              "      <td>United States</td>\n",
              "    </tr>\n",
              "  </tbody>\n",
              "</table>\n",
              "</div>\n",
              "      <button class=\"colab-df-convert\" onclick=\"convertToInteractive('df-eb2573bf-f7f9-4da3-9de8-86c4227530f8')\"\n",
              "              title=\"Convert this dataframe to an interactive table.\"\n",
              "              style=\"display:none;\">\n",
              "        \n",
              "  <svg xmlns=\"http://www.w3.org/2000/svg\" height=\"24px\"viewBox=\"0 0 24 24\"\n",
              "       width=\"24px\">\n",
              "    <path d=\"M0 0h24v24H0V0z\" fill=\"none\"/>\n",
              "    <path d=\"M18.56 5.44l.94 2.06.94-2.06 2.06-.94-2.06-.94-.94-2.06-.94 2.06-2.06.94zm-11 1L8.5 8.5l.94-2.06 2.06-.94-2.06-.94L8.5 2.5l-.94 2.06-2.06.94zm10 10l.94 2.06.94-2.06 2.06-.94-2.06-.94-.94-2.06-.94 2.06-2.06.94z\"/><path d=\"M17.41 7.96l-1.37-1.37c-.4-.4-.92-.59-1.43-.59-.52 0-1.04.2-1.43.59L10.3 9.45l-7.72 7.72c-.78.78-.78 2.05 0 2.83L4 21.41c.39.39.9.59 1.41.59.51 0 1.02-.2 1.41-.59l7.78-7.78 2.81-2.81c.8-.78.8-2.07 0-2.86zM5.41 20L4 18.59l7.72-7.72 1.47 1.35L5.41 20z\"/>\n",
              "  </svg>\n",
              "      </button>\n",
              "      \n",
              "  <style>\n",
              "    .colab-df-container {\n",
              "      display:flex;\n",
              "      flex-wrap:wrap;\n",
              "      gap: 12px;\n",
              "    }\n",
              "\n",
              "    .colab-df-convert {\n",
              "      background-color: #E8F0FE;\n",
              "      border: none;\n",
              "      border-radius: 50%;\n",
              "      cursor: pointer;\n",
              "      display: none;\n",
              "      fill: #1967D2;\n",
              "      height: 32px;\n",
              "      padding: 0 0 0 0;\n",
              "      width: 32px;\n",
              "    }\n",
              "\n",
              "    .colab-df-convert:hover {\n",
              "      background-color: #E2EBFA;\n",
              "      box-shadow: 0px 1px 2px rgba(60, 64, 67, 0.3), 0px 1px 3px 1px rgba(60, 64, 67, 0.15);\n",
              "      fill: #174EA6;\n",
              "    }\n",
              "\n",
              "    [theme=dark] .colab-df-convert {\n",
              "      background-color: #3B4455;\n",
              "      fill: #D2E3FC;\n",
              "    }\n",
              "\n",
              "    [theme=dark] .colab-df-convert:hover {\n",
              "      background-color: #434B5C;\n",
              "      box-shadow: 0px 1px 3px 1px rgba(0, 0, 0, 0.15);\n",
              "      filter: drop-shadow(0px 1px 2px rgba(0, 0, 0, 0.3));\n",
              "      fill: #FFFFFF;\n",
              "    }\n",
              "  </style>\n",
              "\n",
              "      <script>\n",
              "        const buttonEl =\n",
              "          document.querySelector('#df-eb2573bf-f7f9-4da3-9de8-86c4227530f8 button.colab-df-convert');\n",
              "        buttonEl.style.display =\n",
              "          google.colab.kernel.accessAllowed ? 'block' : 'none';\n",
              "\n",
              "        async function convertToInteractive(key) {\n",
              "          const element = document.querySelector('#df-eb2573bf-f7f9-4da3-9de8-86c4227530f8');\n",
              "          const dataTable =\n",
              "            await google.colab.kernel.invokeFunction('convertToInteractive',\n",
              "                                                     [key], {});\n",
              "          if (!dataTable) return;\n",
              "\n",
              "          const docLinkHtml = 'Like what you see? Visit the ' +\n",
              "            '<a target=\"_blank\" href=https://colab.research.google.com/notebooks/data_table.ipynb>data table notebook</a>'\n",
              "            + ' to learn more about interactive tables.';\n",
              "          element.innerHTML = '';\n",
              "          dataTable['output_type'] = 'display_data';\n",
              "          await google.colab.output.renderOutput(dataTable, element);\n",
              "          const docLink = document.createElement('div');\n",
              "          docLink.innerHTML = docLinkHtml;\n",
              "          element.appendChild(docLink);\n",
              "        }\n",
              "      </script>\n",
              "    </div>\n",
              "  </div>\n",
              "  "
            ]
          },
          "metadata": {},
          "execution_count": 4
        }
      ]
    },
    {
      "cell_type": "markdown",
      "source": [
        "Welche Datentypen haben wir? Müssen wir was verändern?"
      ],
      "metadata": {
        "id": "Nnn5_-ghIxcP"
      }
    },
    {
      "cell_type": "code",
      "source": [
        "df.dtypes"
      ],
      "metadata": {
        "colab": {
          "base_uri": "https://localhost:8080/"
        },
        "id": "jgmnUzBZGSqH",
        "outputId": "50eaf975-fe3c-43fd-f0bb-b46cc844e499"
      },
      "execution_count": null,
      "outputs": [
        {
          "output_type": "execute_result",
          "data": {
            "text/plain": [
              "rank                  int64\n",
              "channel_info         object\n",
              "influence_score       int64\n",
              "posts                object\n",
              "followers            object\n",
              "avg_likes            object\n",
              "60_day_eng_rate      object\n",
              "new_post_avg_like    object\n",
              "total_likes          object\n",
              "country              object\n",
              "dtype: object"
            ]
          },
          "metadata": {},
          "execution_count": 7
        }
      ]
    },
    {
      "cell_type": "markdown",
      "source": [
        "Der Klassiker: viele Zahlen sind als String definiert, obwohl es Zahlen sind. Also sollten wir diese Spalten (Variablen) transformieren. "
      ],
      "metadata": {
        "id": "mQ8mUC_rI4k_"
      }
    },
    {
      "cell_type": "code",
      "source": [
        "kmb_columns = ['avg_likes', 'posts', 'followers', 'new_post_avg_like', 'total_likes']\n",
        "\n",
        "kmb_df = df[kmb_columns].replace({'k': '*1e3', 'm': '*1e6', 'b': '1e9'}, regex=True).applymap(pd.eval).astype(int)\n",
        "\n",
        "kmb_df.head(5)\n",
        "\n",
        "other_columns = df.drop(kmb_columns, axis=1)\n",
        "\n",
        "df = pd.concat([other_columns, kmb_df], axis=1)\n",
        "\n",
        "df.head(5)"
      ],
      "metadata": {
        "colab": {
          "base_uri": "https://localhost:8080/",
          "height": 206
        },
        "id": "W8_GzfnhQCEZ",
        "outputId": "06c7cf7a-e1e7-4cf1-ea72-e2551d279cfe"
      },
      "execution_count": null,
      "outputs": [
        {
          "output_type": "execute_result",
          "data": {
            "text/plain": [
              "   rank channel_info  influence_score 60_day_eng_rate        country  \\\n",
              "0     1    cristiano               92           1.39%          Spain   \n",
              "1     2  kyliejenner               91           1.62%  United States   \n",
              "2     3     leomessi               90           1.24%            NaN   \n",
              "3     4  selenagomez               93           0.97%  United States   \n",
              "4     5      therock               91           0.20%  United States   \n",
              "\n",
              "   avg_likes  posts  followers  new_post_avg_like  total_likes  \n",
              "0    8700000   3300  475800000            6500000  29010000000  \n",
              "1    8300000   6900  366200000            5900000  57410000000  \n",
              "2    6800000    890  357300000            4400000   6010000000  \n",
              "3    6200000   1800  342700000            3300000  11510000000  \n",
              "4    1900000   6800  334100000             665300  12510000000  "
            ],
            "text/html": [
              "\n",
              "  <div id=\"df-c1b0e1fc-8802-4d24-a6b8-005507730662\">\n",
              "    <div class=\"colab-df-container\">\n",
              "      <div>\n",
              "<style scoped>\n",
              "    .dataframe tbody tr th:only-of-type {\n",
              "        vertical-align: middle;\n",
              "    }\n",
              "\n",
              "    .dataframe tbody tr th {\n",
              "        vertical-align: top;\n",
              "    }\n",
              "\n",
              "    .dataframe thead th {\n",
              "        text-align: right;\n",
              "    }\n",
              "</style>\n",
              "<table border=\"1\" class=\"dataframe\">\n",
              "  <thead>\n",
              "    <tr style=\"text-align: right;\">\n",
              "      <th></th>\n",
              "      <th>rank</th>\n",
              "      <th>channel_info</th>\n",
              "      <th>influence_score</th>\n",
              "      <th>60_day_eng_rate</th>\n",
              "      <th>country</th>\n",
              "      <th>avg_likes</th>\n",
              "      <th>posts</th>\n",
              "      <th>followers</th>\n",
              "      <th>new_post_avg_like</th>\n",
              "      <th>total_likes</th>\n",
              "    </tr>\n",
              "  </thead>\n",
              "  <tbody>\n",
              "    <tr>\n",
              "      <th>0</th>\n",
              "      <td>1</td>\n",
              "      <td>cristiano</td>\n",
              "      <td>92</td>\n",
              "      <td>1.39%</td>\n",
              "      <td>Spain</td>\n",
              "      <td>8700000</td>\n",
              "      <td>3300</td>\n",
              "      <td>475800000</td>\n",
              "      <td>6500000</td>\n",
              "      <td>29010000000</td>\n",
              "    </tr>\n",
              "    <tr>\n",
              "      <th>1</th>\n",
              "      <td>2</td>\n",
              "      <td>kyliejenner</td>\n",
              "      <td>91</td>\n",
              "      <td>1.62%</td>\n",
              "      <td>United States</td>\n",
              "      <td>8300000</td>\n",
              "      <td>6900</td>\n",
              "      <td>366200000</td>\n",
              "      <td>5900000</td>\n",
              "      <td>57410000000</td>\n",
              "    </tr>\n",
              "    <tr>\n",
              "      <th>2</th>\n",
              "      <td>3</td>\n",
              "      <td>leomessi</td>\n",
              "      <td>90</td>\n",
              "      <td>1.24%</td>\n",
              "      <td>NaN</td>\n",
              "      <td>6800000</td>\n",
              "      <td>890</td>\n",
              "      <td>357300000</td>\n",
              "      <td>4400000</td>\n",
              "      <td>6010000000</td>\n",
              "    </tr>\n",
              "    <tr>\n",
              "      <th>3</th>\n",
              "      <td>4</td>\n",
              "      <td>selenagomez</td>\n",
              "      <td>93</td>\n",
              "      <td>0.97%</td>\n",
              "      <td>United States</td>\n",
              "      <td>6200000</td>\n",
              "      <td>1800</td>\n",
              "      <td>342700000</td>\n",
              "      <td>3300000</td>\n",
              "      <td>11510000000</td>\n",
              "    </tr>\n",
              "    <tr>\n",
              "      <th>4</th>\n",
              "      <td>5</td>\n",
              "      <td>therock</td>\n",
              "      <td>91</td>\n",
              "      <td>0.20%</td>\n",
              "      <td>United States</td>\n",
              "      <td>1900000</td>\n",
              "      <td>6800</td>\n",
              "      <td>334100000</td>\n",
              "      <td>665300</td>\n",
              "      <td>12510000000</td>\n",
              "    </tr>\n",
              "  </tbody>\n",
              "</table>\n",
              "</div>\n",
              "      <button class=\"colab-df-convert\" onclick=\"convertToInteractive('df-c1b0e1fc-8802-4d24-a6b8-005507730662')\"\n",
              "              title=\"Convert this dataframe to an interactive table.\"\n",
              "              style=\"display:none;\">\n",
              "        \n",
              "  <svg xmlns=\"http://www.w3.org/2000/svg\" height=\"24px\"viewBox=\"0 0 24 24\"\n",
              "       width=\"24px\">\n",
              "    <path d=\"M0 0h24v24H0V0z\" fill=\"none\"/>\n",
              "    <path d=\"M18.56 5.44l.94 2.06.94-2.06 2.06-.94-2.06-.94-.94-2.06-.94 2.06-2.06.94zm-11 1L8.5 8.5l.94-2.06 2.06-.94-2.06-.94L8.5 2.5l-.94 2.06-2.06.94zm10 10l.94 2.06.94-2.06 2.06-.94-2.06-.94-.94-2.06-.94 2.06-2.06.94z\"/><path d=\"M17.41 7.96l-1.37-1.37c-.4-.4-.92-.59-1.43-.59-.52 0-1.04.2-1.43.59L10.3 9.45l-7.72 7.72c-.78.78-.78 2.05 0 2.83L4 21.41c.39.39.9.59 1.41.59.51 0 1.02-.2 1.41-.59l7.78-7.78 2.81-2.81c.8-.78.8-2.07 0-2.86zM5.41 20L4 18.59l7.72-7.72 1.47 1.35L5.41 20z\"/>\n",
              "  </svg>\n",
              "      </button>\n",
              "      \n",
              "  <style>\n",
              "    .colab-df-container {\n",
              "      display:flex;\n",
              "      flex-wrap:wrap;\n",
              "      gap: 12px;\n",
              "    }\n",
              "\n",
              "    .colab-df-convert {\n",
              "      background-color: #E8F0FE;\n",
              "      border: none;\n",
              "      border-radius: 50%;\n",
              "      cursor: pointer;\n",
              "      display: none;\n",
              "      fill: #1967D2;\n",
              "      height: 32px;\n",
              "      padding: 0 0 0 0;\n",
              "      width: 32px;\n",
              "    }\n",
              "\n",
              "    .colab-df-convert:hover {\n",
              "      background-color: #E2EBFA;\n",
              "      box-shadow: 0px 1px 2px rgba(60, 64, 67, 0.3), 0px 1px 3px 1px rgba(60, 64, 67, 0.15);\n",
              "      fill: #174EA6;\n",
              "    }\n",
              "\n",
              "    [theme=dark] .colab-df-convert {\n",
              "      background-color: #3B4455;\n",
              "      fill: #D2E3FC;\n",
              "    }\n",
              "\n",
              "    [theme=dark] .colab-df-convert:hover {\n",
              "      background-color: #434B5C;\n",
              "      box-shadow: 0px 1px 3px 1px rgba(0, 0, 0, 0.15);\n",
              "      filter: drop-shadow(0px 1px 2px rgba(0, 0, 0, 0.3));\n",
              "      fill: #FFFFFF;\n",
              "    }\n",
              "  </style>\n",
              "\n",
              "      <script>\n",
              "        const buttonEl =\n",
              "          document.querySelector('#df-c1b0e1fc-8802-4d24-a6b8-005507730662 button.colab-df-convert');\n",
              "        buttonEl.style.display =\n",
              "          google.colab.kernel.accessAllowed ? 'block' : 'none';\n",
              "\n",
              "        async function convertToInteractive(key) {\n",
              "          const element = document.querySelector('#df-c1b0e1fc-8802-4d24-a6b8-005507730662');\n",
              "          const dataTable =\n",
              "            await google.colab.kernel.invokeFunction('convertToInteractive',\n",
              "                                                     [key], {});\n",
              "          if (!dataTable) return;\n",
              "\n",
              "          const docLinkHtml = 'Like what you see? Visit the ' +\n",
              "            '<a target=\"_blank\" href=https://colab.research.google.com/notebooks/data_table.ipynb>data table notebook</a>'\n",
              "            + ' to learn more about interactive tables.';\n",
              "          element.innerHTML = '';\n",
              "          dataTable['output_type'] = 'display_data';\n",
              "          await google.colab.output.renderOutput(dataTable, element);\n",
              "          const docLink = document.createElement('div');\n",
              "          docLink.innerHTML = docLinkHtml;\n",
              "          element.appendChild(docLink);\n",
              "        }\n",
              "      </script>\n",
              "    </div>\n",
              "  </div>\n",
              "  "
            ]
          },
          "metadata": {},
          "execution_count": 5
        }
      ]
    },
    {
      "cell_type": "markdown",
      "source": [
        "Das Land ist auch noch nicht numerisch. Welche Werte kommen denn vor? Können wir das einfach als Dummy coden?"
      ],
      "metadata": {
        "id": "MTHciQ_tTejm"
      }
    },
    {
      "cell_type": "code",
      "source": [
        "df.country.value_counts().head(5)"
      ],
      "metadata": {
        "colab": {
          "base_uri": "https://localhost:8080/"
        },
        "id": "BAxOqZgWTNgA",
        "outputId": "50459a0e-7b6c-43c8-98e9-59ae782f268d"
      },
      "execution_count": null,
      "outputs": [
        {
          "output_type": "execute_result",
          "data": {
            "text/plain": [
              "United States    66\n",
              "Brazil           13\n",
              "India            12\n",
              "Indonesia         7\n",
              "France            6\n",
              "Name: country, dtype: int64"
            ]
          },
          "metadata": {},
          "execution_count": 9
        }
      ]
    },
    {
      "cell_type": "markdown",
      "source": [
        "Da wir zu viele Variablen bekommen würden, könnte man hier einfach sagen United States oder nicht."
      ],
      "metadata": {
        "id": "zkEoaeHvT06I"
      }
    },
    {
      "cell_type": "code",
      "source": [
        "df['country'] = np.where(df['country'] == \"United States\", \"US\", \"Not_US\")"
      ],
      "metadata": {
        "id": "TpfF_PTMTVP-"
      },
      "execution_count": null,
      "outputs": []
    },
    {
      "cell_type": "markdown",
      "source": [
        "Nur noch 60 day engagement rate übrig!"
      ],
      "metadata": {
        "id": "VmfNFbP0Uyhy"
      }
    },
    {
      "cell_type": "code",
      "source": [
        "df['60_day_eng_rate'] = df['60_day_eng_rate'].str.rstrip('%').astype('float') / 100.0"
      ],
      "metadata": {
        "id": "ld1umJOHU5g-"
      },
      "execution_count": null,
      "outputs": []
    },
    {
      "cell_type": "markdown",
      "source": [
        "Fertig ist unser Dataframe, den wir jetzt mit Scikit-Learn verarbeiten können! "
      ],
      "metadata": {
        "id": "s0hWCqfdVUIz"
      }
    },
    {
      "cell_type": "code",
      "source": [
        "df.head(5)"
      ],
      "metadata": {
        "id": "c_DL9dqAbuQX",
        "colab": {
          "base_uri": "https://localhost:8080/",
          "height": 206
        },
        "outputId": "d31edc93-34af-4f7e-fa21-fca15e6f31bd"
      },
      "execution_count": null,
      "outputs": [
        {
          "output_type": "execute_result",
          "data": {
            "text/plain": [
              "   rank channel_info  influence_score  60_day_eng_rate country  avg_likes  \\\n",
              "0     1    cristiano               92           0.0139  Not_US    8700000   \n",
              "1     2  kyliejenner               91           0.0162      US    8300000   \n",
              "2     3     leomessi               90           0.0124  Not_US    6800000   \n",
              "3     4  selenagomez               93           0.0097      US    6200000   \n",
              "4     5      therock               91           0.0020      US    1900000   \n",
              "\n",
              "   posts  followers  new_post_avg_like  total_likes  \n",
              "0   3300  475800000            6500000  29010000000  \n",
              "1   6900  366200000            5900000  57410000000  \n",
              "2    890  357300000            4400000   6010000000  \n",
              "3   1800  342700000            3300000  11510000000  \n",
              "4   6800  334100000             665300  12510000000  "
            ],
            "text/html": [
              "\n",
              "  <div id=\"df-86890200-6d4f-4d0b-91ef-a85da0267712\">\n",
              "    <div class=\"colab-df-container\">\n",
              "      <div>\n",
              "<style scoped>\n",
              "    .dataframe tbody tr th:only-of-type {\n",
              "        vertical-align: middle;\n",
              "    }\n",
              "\n",
              "    .dataframe tbody tr th {\n",
              "        vertical-align: top;\n",
              "    }\n",
              "\n",
              "    .dataframe thead th {\n",
              "        text-align: right;\n",
              "    }\n",
              "</style>\n",
              "<table border=\"1\" class=\"dataframe\">\n",
              "  <thead>\n",
              "    <tr style=\"text-align: right;\">\n",
              "      <th></th>\n",
              "      <th>rank</th>\n",
              "      <th>channel_info</th>\n",
              "      <th>influence_score</th>\n",
              "      <th>60_day_eng_rate</th>\n",
              "      <th>country</th>\n",
              "      <th>avg_likes</th>\n",
              "      <th>posts</th>\n",
              "      <th>followers</th>\n",
              "      <th>new_post_avg_like</th>\n",
              "      <th>total_likes</th>\n",
              "    </tr>\n",
              "  </thead>\n",
              "  <tbody>\n",
              "    <tr>\n",
              "      <th>0</th>\n",
              "      <td>1</td>\n",
              "      <td>cristiano</td>\n",
              "      <td>92</td>\n",
              "      <td>0.0139</td>\n",
              "      <td>Not_US</td>\n",
              "      <td>8700000</td>\n",
              "      <td>3300</td>\n",
              "      <td>475800000</td>\n",
              "      <td>6500000</td>\n",
              "      <td>29010000000</td>\n",
              "    </tr>\n",
              "    <tr>\n",
              "      <th>1</th>\n",
              "      <td>2</td>\n",
              "      <td>kyliejenner</td>\n",
              "      <td>91</td>\n",
              "      <td>0.0162</td>\n",
              "      <td>US</td>\n",
              "      <td>8300000</td>\n",
              "      <td>6900</td>\n",
              "      <td>366200000</td>\n",
              "      <td>5900000</td>\n",
              "      <td>57410000000</td>\n",
              "    </tr>\n",
              "    <tr>\n",
              "      <th>2</th>\n",
              "      <td>3</td>\n",
              "      <td>leomessi</td>\n",
              "      <td>90</td>\n",
              "      <td>0.0124</td>\n",
              "      <td>Not_US</td>\n",
              "      <td>6800000</td>\n",
              "      <td>890</td>\n",
              "      <td>357300000</td>\n",
              "      <td>4400000</td>\n",
              "      <td>6010000000</td>\n",
              "    </tr>\n",
              "    <tr>\n",
              "      <th>3</th>\n",
              "      <td>4</td>\n",
              "      <td>selenagomez</td>\n",
              "      <td>93</td>\n",
              "      <td>0.0097</td>\n",
              "      <td>US</td>\n",
              "      <td>6200000</td>\n",
              "      <td>1800</td>\n",
              "      <td>342700000</td>\n",
              "      <td>3300000</td>\n",
              "      <td>11510000000</td>\n",
              "    </tr>\n",
              "    <tr>\n",
              "      <th>4</th>\n",
              "      <td>5</td>\n",
              "      <td>therock</td>\n",
              "      <td>91</td>\n",
              "      <td>0.0020</td>\n",
              "      <td>US</td>\n",
              "      <td>1900000</td>\n",
              "      <td>6800</td>\n",
              "      <td>334100000</td>\n",
              "      <td>665300</td>\n",
              "      <td>12510000000</td>\n",
              "    </tr>\n",
              "  </tbody>\n",
              "</table>\n",
              "</div>\n",
              "      <button class=\"colab-df-convert\" onclick=\"convertToInteractive('df-86890200-6d4f-4d0b-91ef-a85da0267712')\"\n",
              "              title=\"Convert this dataframe to an interactive table.\"\n",
              "              style=\"display:none;\">\n",
              "        \n",
              "  <svg xmlns=\"http://www.w3.org/2000/svg\" height=\"24px\"viewBox=\"0 0 24 24\"\n",
              "       width=\"24px\">\n",
              "    <path d=\"M0 0h24v24H0V0z\" fill=\"none\"/>\n",
              "    <path d=\"M18.56 5.44l.94 2.06.94-2.06 2.06-.94-2.06-.94-.94-2.06-.94 2.06-2.06.94zm-11 1L8.5 8.5l.94-2.06 2.06-.94-2.06-.94L8.5 2.5l-.94 2.06-2.06.94zm10 10l.94 2.06.94-2.06 2.06-.94-2.06-.94-.94-2.06-.94 2.06-2.06.94z\"/><path d=\"M17.41 7.96l-1.37-1.37c-.4-.4-.92-.59-1.43-.59-.52 0-1.04.2-1.43.59L10.3 9.45l-7.72 7.72c-.78.78-.78 2.05 0 2.83L4 21.41c.39.39.9.59 1.41.59.51 0 1.02-.2 1.41-.59l7.78-7.78 2.81-2.81c.8-.78.8-2.07 0-2.86zM5.41 20L4 18.59l7.72-7.72 1.47 1.35L5.41 20z\"/>\n",
              "  </svg>\n",
              "      </button>\n",
              "      \n",
              "  <style>\n",
              "    .colab-df-container {\n",
              "      display:flex;\n",
              "      flex-wrap:wrap;\n",
              "      gap: 12px;\n",
              "    }\n",
              "\n",
              "    .colab-df-convert {\n",
              "      background-color: #E8F0FE;\n",
              "      border: none;\n",
              "      border-radius: 50%;\n",
              "      cursor: pointer;\n",
              "      display: none;\n",
              "      fill: #1967D2;\n",
              "      height: 32px;\n",
              "      padding: 0 0 0 0;\n",
              "      width: 32px;\n",
              "    }\n",
              "\n",
              "    .colab-df-convert:hover {\n",
              "      background-color: #E2EBFA;\n",
              "      box-shadow: 0px 1px 2px rgba(60, 64, 67, 0.3), 0px 1px 3px 1px rgba(60, 64, 67, 0.15);\n",
              "      fill: #174EA6;\n",
              "    }\n",
              "\n",
              "    [theme=dark] .colab-df-convert {\n",
              "      background-color: #3B4455;\n",
              "      fill: #D2E3FC;\n",
              "    }\n",
              "\n",
              "    [theme=dark] .colab-df-convert:hover {\n",
              "      background-color: #434B5C;\n",
              "      box-shadow: 0px 1px 3px 1px rgba(0, 0, 0, 0.15);\n",
              "      filter: drop-shadow(0px 1px 2px rgba(0, 0, 0, 0.3));\n",
              "      fill: #FFFFFF;\n",
              "    }\n",
              "  </style>\n",
              "\n",
              "      <script>\n",
              "        const buttonEl =\n",
              "          document.querySelector('#df-86890200-6d4f-4d0b-91ef-a85da0267712 button.colab-df-convert');\n",
              "        buttonEl.style.display =\n",
              "          google.colab.kernel.accessAllowed ? 'block' : 'none';\n",
              "\n",
              "        async function convertToInteractive(key) {\n",
              "          const element = document.querySelector('#df-86890200-6d4f-4d0b-91ef-a85da0267712');\n",
              "          const dataTable =\n",
              "            await google.colab.kernel.invokeFunction('convertToInteractive',\n",
              "                                                     [key], {});\n",
              "          if (!dataTable) return;\n",
              "\n",
              "          const docLinkHtml = 'Like what you see? Visit the ' +\n",
              "            '<a target=\"_blank\" href=https://colab.research.google.com/notebooks/data_table.ipynb>data table notebook</a>'\n",
              "            + ' to learn more about interactive tables.';\n",
              "          element.innerHTML = '';\n",
              "          dataTable['output_type'] = 'display_data';\n",
              "          await google.colab.output.renderOutput(dataTable, element);\n",
              "          const docLink = document.createElement('div');\n",
              "          docLink.innerHTML = docLinkHtml;\n",
              "          element.appendChild(docLink);\n",
              "        }\n",
              "      </script>\n",
              "    </div>\n",
              "  </div>\n",
              "  "
            ]
          },
          "metadata": {},
          "execution_count": 13
        }
      ]
    },
    {
      "cell_type": "markdown",
      "source": [
        "Noch eine kurze graphische Übersicht: wir möchten den influence_score vorhersagen. Welche Werte kann dieser Score annehmen? "
      ],
      "metadata": {
        "id": "IkCm03subxIn"
      }
    },
    {
      "cell_type": "code",
      "source": [
        "fig = px.histogram(df, x=\"influence_score\", nbins=72)\n",
        "fig.show()"
      ],
      "metadata": {
        "colab": {
          "base_uri": "https://localhost:8080/",
          "height": 542
        },
        "id": "a049-zvjbyUn",
        "outputId": "2345cb91-44f7-4237-8a0b-5cc51c880fed"
      },
      "execution_count": null,
      "outputs": [
        {
          "output_type": "display_data",
          "data": {
            "text/html": [
              "<html>\n",
              "<head><meta charset=\"utf-8\" /></head>\n",
              "<body>\n",
              "    <div>            <script src=\"https://cdnjs.cloudflare.com/ajax/libs/mathjax/2.7.5/MathJax.js?config=TeX-AMS-MML_SVG\"></script><script type=\"text/javascript\">if (window.MathJax) {MathJax.Hub.Config({SVG: {font: \"STIX-Web\"}});}</script>                <script type=\"text/javascript\">window.PlotlyConfig = {MathJaxConfig: 'local'};</script>\n",
              "        <script src=\"https://cdn.plot.ly/plotly-2.8.3.min.js\"></script>                <div id=\"b3c11fac-d5ba-477c-9faf-7dcf5fdd80dc\" class=\"plotly-graph-div\" style=\"height:525px; width:100%;\"></div>            <script type=\"text/javascript\">                                    window.PLOTLYENV=window.PLOTLYENV || {};                                    if (document.getElementById(\"b3c11fac-d5ba-477c-9faf-7dcf5fdd80dc\")) {                    Plotly.newPlot(                        \"b3c11fac-d5ba-477c-9faf-7dcf5fdd80dc\",                        [{\"alignmentgroup\":\"True\",\"bingroup\":\"x\",\"hovertemplate\":\"influence_score=%{x}<br>count=%{y}<extra></extra>\",\"legendgroup\":\"\",\"marker\":{\"color\":\"#636efa\",\"pattern\":{\"shape\":\"\"}},\"name\":\"\",\"nbinsx\":72,\"offsetgroup\":\"\",\"orientation\":\"v\",\"showlegend\":false,\"x\":[92,91,90,93,91,91,92,92,89,91,90,91,90,91,89,87,90,89,89,90,92,88,87,75,88,88,86,87,90,85,86,90,73,74,85,88,88,85,70,88,86,85,86,81,88,86,84,87,83,76,85,82,83,77,78,87,78,85,82,87,77,82,83,82,82,84,85,85,86,82,85,85,79,86,86,80,42,86,83,80,86,86,87,86,79,86,76,86,84,83,74,87,87,22,85,79,82,84,85,76,86,80,83,81,80,86,84,82,85,85,85,86,85,81,57,85,84,85,82,85,78,82,80,82,85,84,86,42,85,76,84,84,85,81,85,84,86,83,83,80,83,73,83,83,85,85,81,85,85,85,81,75,80,78,84,58,74,80,79,75,80,83,85,84,83,80,84,83,76,83,85,84,77,81,47,82,83,78,81,76,72,84,83,83,68,84,80,83,77,83,79,84,63,41,75,71,81,79,78,80],\"xaxis\":\"x\",\"yaxis\":\"y\",\"type\":\"histogram\"}],                        {\"template\":{\"data\":{\"bar\":[{\"error_x\":{\"color\":\"#2a3f5f\"},\"error_y\":{\"color\":\"#2a3f5f\"},\"marker\":{\"line\":{\"color\":\"#E5ECF6\",\"width\":0.5},\"pattern\":{\"fillmode\":\"overlay\",\"size\":10,\"solidity\":0.2}},\"type\":\"bar\"}],\"barpolar\":[{\"marker\":{\"line\":{\"color\":\"#E5ECF6\",\"width\":0.5},\"pattern\":{\"fillmode\":\"overlay\",\"size\":10,\"solidity\":0.2}},\"type\":\"barpolar\"}],\"carpet\":[{\"aaxis\":{\"endlinecolor\":\"#2a3f5f\",\"gridcolor\":\"white\",\"linecolor\":\"white\",\"minorgridcolor\":\"white\",\"startlinecolor\":\"#2a3f5f\"},\"baxis\":{\"endlinecolor\":\"#2a3f5f\",\"gridcolor\":\"white\",\"linecolor\":\"white\",\"minorgridcolor\":\"white\",\"startlinecolor\":\"#2a3f5f\"},\"type\":\"carpet\"}],\"choropleth\":[{\"colorbar\":{\"outlinewidth\":0,\"ticks\":\"\"},\"type\":\"choropleth\"}],\"contour\":[{\"colorbar\":{\"outlinewidth\":0,\"ticks\":\"\"},\"colorscale\":[[0.0,\"#0d0887\"],[0.1111111111111111,\"#46039f\"],[0.2222222222222222,\"#7201a8\"],[0.3333333333333333,\"#9c179e\"],[0.4444444444444444,\"#bd3786\"],[0.5555555555555556,\"#d8576b\"],[0.6666666666666666,\"#ed7953\"],[0.7777777777777778,\"#fb9f3a\"],[0.8888888888888888,\"#fdca26\"],[1.0,\"#f0f921\"]],\"type\":\"contour\"}],\"contourcarpet\":[{\"colorbar\":{\"outlinewidth\":0,\"ticks\":\"\"},\"type\":\"contourcarpet\"}],\"heatmap\":[{\"colorbar\":{\"outlinewidth\":0,\"ticks\":\"\"},\"colorscale\":[[0.0,\"#0d0887\"],[0.1111111111111111,\"#46039f\"],[0.2222222222222222,\"#7201a8\"],[0.3333333333333333,\"#9c179e\"],[0.4444444444444444,\"#bd3786\"],[0.5555555555555556,\"#d8576b\"],[0.6666666666666666,\"#ed7953\"],[0.7777777777777778,\"#fb9f3a\"],[0.8888888888888888,\"#fdca26\"],[1.0,\"#f0f921\"]],\"type\":\"heatmap\"}],\"heatmapgl\":[{\"colorbar\":{\"outlinewidth\":0,\"ticks\":\"\"},\"colorscale\":[[0.0,\"#0d0887\"],[0.1111111111111111,\"#46039f\"],[0.2222222222222222,\"#7201a8\"],[0.3333333333333333,\"#9c179e\"],[0.4444444444444444,\"#bd3786\"],[0.5555555555555556,\"#d8576b\"],[0.6666666666666666,\"#ed7953\"],[0.7777777777777778,\"#fb9f3a\"],[0.8888888888888888,\"#fdca26\"],[1.0,\"#f0f921\"]],\"type\":\"heatmapgl\"}],\"histogram\":[{\"marker\":{\"pattern\":{\"fillmode\":\"overlay\",\"size\":10,\"solidity\":0.2}},\"type\":\"histogram\"}],\"histogram2d\":[{\"colorbar\":{\"outlinewidth\":0,\"ticks\":\"\"},\"colorscale\":[[0.0,\"#0d0887\"],[0.1111111111111111,\"#46039f\"],[0.2222222222222222,\"#7201a8\"],[0.3333333333333333,\"#9c179e\"],[0.4444444444444444,\"#bd3786\"],[0.5555555555555556,\"#d8576b\"],[0.6666666666666666,\"#ed7953\"],[0.7777777777777778,\"#fb9f3a\"],[0.8888888888888888,\"#fdca26\"],[1.0,\"#f0f921\"]],\"type\":\"histogram2d\"}],\"histogram2dcontour\":[{\"colorbar\":{\"outlinewidth\":0,\"ticks\":\"\"},\"colorscale\":[[0.0,\"#0d0887\"],[0.1111111111111111,\"#46039f\"],[0.2222222222222222,\"#7201a8\"],[0.3333333333333333,\"#9c179e\"],[0.4444444444444444,\"#bd3786\"],[0.5555555555555556,\"#d8576b\"],[0.6666666666666666,\"#ed7953\"],[0.7777777777777778,\"#fb9f3a\"],[0.8888888888888888,\"#fdca26\"],[1.0,\"#f0f921\"]],\"type\":\"histogram2dcontour\"}],\"mesh3d\":[{\"colorbar\":{\"outlinewidth\":0,\"ticks\":\"\"},\"type\":\"mesh3d\"}],\"parcoords\":[{\"line\":{\"colorbar\":{\"outlinewidth\":0,\"ticks\":\"\"}},\"type\":\"parcoords\"}],\"pie\":[{\"automargin\":true,\"type\":\"pie\"}],\"scatter\":[{\"marker\":{\"colorbar\":{\"outlinewidth\":0,\"ticks\":\"\"}},\"type\":\"scatter\"}],\"scatter3d\":[{\"line\":{\"colorbar\":{\"outlinewidth\":0,\"ticks\":\"\"}},\"marker\":{\"colorbar\":{\"outlinewidth\":0,\"ticks\":\"\"}},\"type\":\"scatter3d\"}],\"scattercarpet\":[{\"marker\":{\"colorbar\":{\"outlinewidth\":0,\"ticks\":\"\"}},\"type\":\"scattercarpet\"}],\"scattergeo\":[{\"marker\":{\"colorbar\":{\"outlinewidth\":0,\"ticks\":\"\"}},\"type\":\"scattergeo\"}],\"scattergl\":[{\"marker\":{\"colorbar\":{\"outlinewidth\":0,\"ticks\":\"\"}},\"type\":\"scattergl\"}],\"scattermapbox\":[{\"marker\":{\"colorbar\":{\"outlinewidth\":0,\"ticks\":\"\"}},\"type\":\"scattermapbox\"}],\"scatterpolar\":[{\"marker\":{\"colorbar\":{\"outlinewidth\":0,\"ticks\":\"\"}},\"type\":\"scatterpolar\"}],\"scatterpolargl\":[{\"marker\":{\"colorbar\":{\"outlinewidth\":0,\"ticks\":\"\"}},\"type\":\"scatterpolargl\"}],\"scatterternary\":[{\"marker\":{\"colorbar\":{\"outlinewidth\":0,\"ticks\":\"\"}},\"type\":\"scatterternary\"}],\"surface\":[{\"colorbar\":{\"outlinewidth\":0,\"ticks\":\"\"},\"colorscale\":[[0.0,\"#0d0887\"],[0.1111111111111111,\"#46039f\"],[0.2222222222222222,\"#7201a8\"],[0.3333333333333333,\"#9c179e\"],[0.4444444444444444,\"#bd3786\"],[0.5555555555555556,\"#d8576b\"],[0.6666666666666666,\"#ed7953\"],[0.7777777777777778,\"#fb9f3a\"],[0.8888888888888888,\"#fdca26\"],[1.0,\"#f0f921\"]],\"type\":\"surface\"}],\"table\":[{\"cells\":{\"fill\":{\"color\":\"#EBF0F8\"},\"line\":{\"color\":\"white\"}},\"header\":{\"fill\":{\"color\":\"#C8D4E3\"},\"line\":{\"color\":\"white\"}},\"type\":\"table\"}]},\"layout\":{\"annotationdefaults\":{\"arrowcolor\":\"#2a3f5f\",\"arrowhead\":0,\"arrowwidth\":1},\"autotypenumbers\":\"strict\",\"coloraxis\":{\"colorbar\":{\"outlinewidth\":0,\"ticks\":\"\"}},\"colorscale\":{\"diverging\":[[0,\"#8e0152\"],[0.1,\"#c51b7d\"],[0.2,\"#de77ae\"],[0.3,\"#f1b6da\"],[0.4,\"#fde0ef\"],[0.5,\"#f7f7f7\"],[0.6,\"#e6f5d0\"],[0.7,\"#b8e186\"],[0.8,\"#7fbc41\"],[0.9,\"#4d9221\"],[1,\"#276419\"]],\"sequential\":[[0.0,\"#0d0887\"],[0.1111111111111111,\"#46039f\"],[0.2222222222222222,\"#7201a8\"],[0.3333333333333333,\"#9c179e\"],[0.4444444444444444,\"#bd3786\"],[0.5555555555555556,\"#d8576b\"],[0.6666666666666666,\"#ed7953\"],[0.7777777777777778,\"#fb9f3a\"],[0.8888888888888888,\"#fdca26\"],[1.0,\"#f0f921\"]],\"sequentialminus\":[[0.0,\"#0d0887\"],[0.1111111111111111,\"#46039f\"],[0.2222222222222222,\"#7201a8\"],[0.3333333333333333,\"#9c179e\"],[0.4444444444444444,\"#bd3786\"],[0.5555555555555556,\"#d8576b\"],[0.6666666666666666,\"#ed7953\"],[0.7777777777777778,\"#fb9f3a\"],[0.8888888888888888,\"#fdca26\"],[1.0,\"#f0f921\"]]},\"colorway\":[\"#636efa\",\"#EF553B\",\"#00cc96\",\"#ab63fa\",\"#FFA15A\",\"#19d3f3\",\"#FF6692\",\"#B6E880\",\"#FF97FF\",\"#FECB52\"],\"font\":{\"color\":\"#2a3f5f\"},\"geo\":{\"bgcolor\":\"white\",\"lakecolor\":\"white\",\"landcolor\":\"#E5ECF6\",\"showlakes\":true,\"showland\":true,\"subunitcolor\":\"white\"},\"hoverlabel\":{\"align\":\"left\"},\"hovermode\":\"closest\",\"mapbox\":{\"style\":\"light\"},\"paper_bgcolor\":\"white\",\"plot_bgcolor\":\"#E5ECF6\",\"polar\":{\"angularaxis\":{\"gridcolor\":\"white\",\"linecolor\":\"white\",\"ticks\":\"\"},\"bgcolor\":\"#E5ECF6\",\"radialaxis\":{\"gridcolor\":\"white\",\"linecolor\":\"white\",\"ticks\":\"\"}},\"scene\":{\"xaxis\":{\"backgroundcolor\":\"#E5ECF6\",\"gridcolor\":\"white\",\"gridwidth\":2,\"linecolor\":\"white\",\"showbackground\":true,\"ticks\":\"\",\"zerolinecolor\":\"white\"},\"yaxis\":{\"backgroundcolor\":\"#E5ECF6\",\"gridcolor\":\"white\",\"gridwidth\":2,\"linecolor\":\"white\",\"showbackground\":true,\"ticks\":\"\",\"zerolinecolor\":\"white\"},\"zaxis\":{\"backgroundcolor\":\"#E5ECF6\",\"gridcolor\":\"white\",\"gridwidth\":2,\"linecolor\":\"white\",\"showbackground\":true,\"ticks\":\"\",\"zerolinecolor\":\"white\"}},\"shapedefaults\":{\"line\":{\"color\":\"#2a3f5f\"}},\"ternary\":{\"aaxis\":{\"gridcolor\":\"white\",\"linecolor\":\"white\",\"ticks\":\"\"},\"baxis\":{\"gridcolor\":\"white\",\"linecolor\":\"white\",\"ticks\":\"\"},\"bgcolor\":\"#E5ECF6\",\"caxis\":{\"gridcolor\":\"white\",\"linecolor\":\"white\",\"ticks\":\"\"}},\"title\":{\"x\":0.05},\"xaxis\":{\"automargin\":true,\"gridcolor\":\"white\",\"linecolor\":\"white\",\"ticks\":\"\",\"title\":{\"standoff\":15},\"zerolinecolor\":\"white\",\"zerolinewidth\":2},\"yaxis\":{\"automargin\":true,\"gridcolor\":\"white\",\"linecolor\":\"white\",\"ticks\":\"\",\"title\":{\"standoff\":15},\"zerolinecolor\":\"white\",\"zerolinewidth\":2}}},\"xaxis\":{\"anchor\":\"y\",\"domain\":[0.0,1.0],\"title\":{\"text\":\"influence_score\"}},\"yaxis\":{\"anchor\":\"x\",\"domain\":[0.0,1.0],\"title\":{\"text\":\"count\"}},\"legend\":{\"tracegroupgap\":0},\"margin\":{\"t\":60},\"barmode\":\"relative\"},                        {\"responsive\": true}                    ).then(function(){\n",
              "                            \n",
              "var gd = document.getElementById('b3c11fac-d5ba-477c-9faf-7dcf5fdd80dc');\n",
              "var x = new MutationObserver(function (mutations, observer) {{\n",
              "        var display = window.getComputedStyle(gd).display;\n",
              "        if (!display || display === 'none') {{\n",
              "            console.log([gd, 'removed!']);\n",
              "            Plotly.purge(gd);\n",
              "            observer.disconnect();\n",
              "        }}\n",
              "}});\n",
              "\n",
              "// Listen for the removal of the full notebook cells\n",
              "var notebookContainer = gd.closest('#notebook-container');\n",
              "if (notebookContainer) {{\n",
              "    x.observe(notebookContainer, {childList: true});\n",
              "}}\n",
              "\n",
              "// Listen for the clearing of the current output cell\n",
              "var outputEl = gd.closest('.output');\n",
              "if (outputEl) {{\n",
              "    x.observe(outputEl, {childList: true});\n",
              "}}\n",
              "\n",
              "                        })                };                            </script>        </div>\n",
              "</body>\n",
              "</html>"
            ]
          },
          "metadata": {}
        }
      ]
    },
    {
      "cell_type": "markdown",
      "source": [
        "Wir sehen, dass dieser Wert nur positive natürlich Zahlen (Integer) von 22 bis 93 annehmen kann. Daher macht hier kein Regressionsmodell Sinn, das den ganzen Raum aller reeller Zahlen vorhersagen kann, sondern ein Generalized Linear Model, das nur positive Integer vorhersagen kann. In unserem Fall können wir den influence_score als Poisson-verteilte Variable modellieren.\n",
        "Man könnte auch darüber nachdenken, alle Werte unter 70 auszuschließen, da dass extreme Ausreißer sind, die das Training des Modells unnatürlich verschlechtern könnten."
      ],
      "metadata": {
        "id": "i6Vna_MfeteB"
      }
    },
    {
      "cell_type": "markdown",
      "source": [
        "## Scikit-Learn"
      ],
      "metadata": {
        "id": "O8V4grqLVnuT"
      }
    },
    {
      "cell_type": "markdown",
      "source": [
        "Preprocessing Schritte definieren"
      ],
      "metadata": {
        "id": "l2fKrP7hiVvi"
      }
    },
    {
      "cell_type": "code",
      "source": [
        "dummy_maker = Pipeline(steps=[\n",
        "         ('dummy_coder', OneHotEncoder(sparse=False, drop='first', handle_unknown='ignore'))\n",
        "        ])  \n",
        "\n",
        "normalizer = Pipeline(steps=[\n",
        "    ('standardizer', MinMaxScaler())\n",
        "])\n",
        "\n",
        "preprocessor = ColumnTransformer(\n",
        "           transformers=[\n",
        "             ('one_hot_encoder', dummy_maker, ['country']),\n",
        "             ('scaler', normalizer, ['avg_likes', 'posts', 'followers', 'new_post_avg_like', 'total_likes'])\n",
        "            ]\n",
        "        )"
      ],
      "metadata": {
        "id": "KxxUtEjiVpo2"
      },
      "execution_count": null,
      "outputs": []
    },
    {
      "cell_type": "markdown",
      "source": [
        "Preprocessing anwenden und Zielvariable extrahieren"
      ],
      "metadata": {
        "id": "ymvUDT9-iZAA"
      }
    },
    {
      "cell_type": "code",
      "source": [
        "X = pd.DataFrame(preprocessor.fit_transform(df))\n",
        "# Minimales Beispiel für Theorie\n",
        "# X = X.iloc[:, 0:3]\n",
        "\n",
        "y = df['influence_score']\n",
        "\n",
        "X_train, X_test, y_train, y_test = train_test_split(X, y, test_size=0.2, random_state=486)"
      ],
      "metadata": {
        "id": "7tJ3WRSwa60R"
      },
      "execution_count": null,
      "outputs": []
    },
    {
      "cell_type": "markdown",
      "source": [
        "1. Modell definieren"
      ],
      "metadata": {
        "id": "a9iMVK_AjJSo"
      }
    },
    {
      "cell_type": "code",
      "source": [
        "model_1 = tf.keras.Sequential(\n",
        "    [  \n",
        "        layers.Dense(units=2, activation=\"relu\", name='first_hidden_layer'),\n",
        "        layers.Dense(units=2, activation=\"linear\", name='second_hidden_layer'),\n",
        "        layers.Dense(units=1, name='output_layer')]\n",
        ")"
      ],
      "metadata": {
        "id": "_44W5OyJQgTY"
      },
      "execution_count": null,
      "outputs": []
    },
    {
      "cell_type": "markdown",
      "source": [
        "2. Loss Function, die minimiert werden soll und Minimierungsverfahren wählen"
      ],
      "metadata": {
        "id": "fgll6p7LoBbp"
      }
    },
    {
      "cell_type": "code",
      "source": [
        "model_1.compile(loss='mean_absolute_error',\n",
        "                optimizer=tf.keras.optimizers.Adam(0.01))"
      ],
      "metadata": {
        "id": "fubjqB8rSbt5"
      },
      "execution_count": null,
      "outputs": []
    },
    {
      "cell_type": "markdown",
      "source": [
        "3. Trainieren des Modells"
      ],
      "metadata": {
        "id": "NbdM8OayofUb"
      }
    },
    {
      "cell_type": "code",
      "source": [
        "model_1.fit(X_train, y_train,\n",
        "            validation_split = 0.2,\n",
        "            epochs = 100,\n",
        "            verbose = 0)"
      ],
      "metadata": {
        "colab": {
          "base_uri": "https://localhost:8080/"
        },
        "id": "1O4pbA0CkRHl",
        "outputId": "ccaf5026-4af7-4855-b78b-99571ec0fe8e"
      },
      "execution_count": null,
      "outputs": [
        {
          "output_type": "execute_result",
          "data": {
            "text/plain": [
              "<keras.callbacks.History at 0x7f3ec77cce90>"
            ]
          },
          "metadata": {},
          "execution_count": 36
        }
      ]
    },
    {
      "cell_type": "markdown",
      "source": [
        "Zusammenfassung der Parameter"
      ],
      "metadata": {
        "id": "55sKBDffk8sx"
      }
    },
    {
      "cell_type": "code",
      "source": [
        "model_1.summary()"
      ],
      "metadata": {
        "colab": {
          "base_uri": "https://localhost:8080/"
        },
        "id": "yKBx6heVvenH",
        "outputId": "139ac722-32ff-46e0-ff46-85675b23d7a3"
      },
      "execution_count": null,
      "outputs": [
        {
          "output_type": "stream",
          "name": "stdout",
          "text": [
            "Model: \"sequential_4\"\n",
            "_________________________________________________________________\n",
            " Layer (type)                Output Shape              Param #   \n",
            "=================================================================\n",
            " first_hidden_layer (Dense)  (32, 2)                   14        \n",
            "                                                                 \n",
            " second_hidden_layer (Dense)  (32, 2)                  6         \n",
            "                                                                 \n",
            " output_layer (Dense)        (32, 1)                   3         \n",
            "                                                                 \n",
            "=================================================================\n",
            "Total params: 23\n",
            "Trainable params: 23\n",
            "Non-trainable params: 0\n",
            "_________________________________________________________________\n"
          ]
        }
      ]
    },
    {
      "cell_type": "code",
      "source": [
        "model_1.weights"
      ],
      "metadata": {
        "colab": {
          "base_uri": "https://localhost:8080/"
        },
        "id": "WgC8yBcNkWaK",
        "outputId": "7009a4ea-6d85-4e5d-8537-289ac05fda59"
      },
      "execution_count": null,
      "outputs": [
        {
          "output_type": "execute_result",
          "data": {
            "text/plain": [
              "[<tf.Variable 'first_hidden_layer/kernel:0' shape=(6, 2) dtype=float32, numpy=\n",
              " array([[ 0.27023777,  0.13058992],\n",
              "        [ 0.19367293,  0.7510307 ],\n",
              "        [-0.36510402,  1.385997  ],\n",
              "        [-0.62559247,  0.47079843],\n",
              "        [-0.17840622,  0.73691666],\n",
              "        [-0.0881504 ,  0.08539139]], dtype=float32)>,\n",
              " <tf.Variable 'first_hidden_layer/bias:0' shape=(2,) dtype=float32, numpy=array([-0.37815917,  3.2560093 ], dtype=float32)>,\n",
              " <tf.Variable 'second_hidden_layer/kernel:0' shape=(2, 2) dtype=float32, numpy=\n",
              " array([[ 0.7413808, -0.5188316],\n",
              "        [-2.7734947,  2.8742447]], dtype=float32)>,\n",
              " <tf.Variable 'second_hidden_layer/bias:0' shape=(2,) dtype=float32, numpy=array([-2.5123315,  3.0966282], dtype=float32)>,\n",
              " <tf.Variable 'output_layer/kernel:0' shape=(2, 1) dtype=float32, numpy=\n",
              " array([[-3.5859468],\n",
              "        [ 2.4363828]], dtype=float32)>,\n",
              " <tf.Variable 'output_layer/bias:0' shape=(1,) dtype=float32, numpy=array([1.9711283], dtype=float32)>]"
            ]
          },
          "metadata": {},
          "execution_count": 38
        }
      ]
    },
    {
      "cell_type": "markdown",
      "source": [
        "4. Vorhersage machen"
      ],
      "metadata": {
        "id": "gwPvNf4cpljK"
      }
    },
    {
      "cell_type": "markdown",
      "source": [
        "Vorhersage vs. echter Wert"
      ],
      "metadata": {
        "id": "BUNDvRCQkMIT"
      }
    },
    {
      "cell_type": "code",
      "source": [
        "a = plt.axes(aspect='equal')\n",
        "plt.scatter(y_test, model_1.predict(X_test))\n",
        "plt.xlabel('True Values')\n",
        "plt.ylabel('Predictions')\n",
        "lims = [20, 120]\n",
        "plt.xlim(lims)\n",
        "plt.ylim(lims)\n",
        "ideal_line = plt.plot(lims, lims)"
      ],
      "metadata": {
        "colab": {
          "base_uri": "https://localhost:8080/",
          "height": 300
        },
        "id": "wKzo_iGFleVk",
        "outputId": "db893924-9567-48fe-de7f-d9d3fab4bef8"
      },
      "execution_count": null,
      "outputs": [
        {
          "output_type": "stream",
          "name": "stdout",
          "text": [
            "2/2 [==============================] - 0s 6ms/step\n"
          ]
        },
        {
          "output_type": "display_data",
          "data": {
            "text/plain": [
              "<Figure size 432x288 with 1 Axes>"
            ],
            "image/png": "[encoded data removed]"
          },
          "metadata": {
            "needs_background": "light"
          }
        }
      ]
    }
  ]
}